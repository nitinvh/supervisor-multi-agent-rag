{
 "cells": [
  {
   "cell_type": "code",
   "execution_count": 1,
   "metadata": {},
   "outputs": [
    {
     "data": {
      "text/plain": [
       "True"
      ]
     },
     "execution_count": 1,
     "metadata": {},
     "output_type": "execute_result"
    }
   ],
   "source": [
    "from dotenv import load_dotenv\n",
    "load_dotenv()"
   ]
  },
  {
   "cell_type": "code",
   "execution_count": 9,
   "metadata": {},
   "outputs": [],
   "source": [
    "import os\n",
    "from langchain_core.messages import HumanMessage,AIMessage\n",
    "from langchain_openai import ChatOpenAI\n",
    "from langgraph.graph import START,END, StateGraph, MessagesState\n",
    "from typing import Annotated, TypedDict, Literal\n",
    "from langgraph.types import Command\n",
    "from langgraph.prebuilt import create_react_agent\n",
    "from langchain_core.tools import tool\n",
    "from langchain_experimental.utilities import PythonREPL\n",
    "from langchain.tools.tavily_search import TavilySearchResults"
   ]
  },
  {
   "cell_type": "code",
   "execution_count": 3,
   "metadata": {},
   "outputs": [],
   "source": [
    "os.environ[\"OPENAI_API_KEY\"] = os.getenv(\"OPENAI_API_KEY\")\n",
    "tavily_key = os.getenv(\"TAVILY_API_KEY\")"
   ]
  },
  {
   "cell_type": "code",
   "execution_count": 4,
   "metadata": {},
   "outputs": [
    {
     "name": "stderr",
     "output_type": "stream",
     "text": [
      "/var/folders/8g/sz3w79_54bgdwgjzjt0tn92h0000gn/T/ipykernel_12311/3021908779.py:1: LangChainDeprecationWarning: The class `TavilySearchResults` was deprecated in LangChain 0.3.25 and will be removed in 1.0. An updated version of the class exists in the :class:`~langchain-tavily package and should be used instead. To use it run `pip install -U :class:`~langchain-tavily` and import as `from :class:`~langchain_tavily import TavilySearch``.\n",
      "  search_tool = TavilySearchResults(tavily_api_key=tavily_key)\n"
     ]
    }
   ],
   "source": [
    "search_tool = TavilySearchResults(tavily_api_key=tavily_key)"
   ]
  },
  {
   "cell_type": "code",
   "execution_count": 6,
   "metadata": {},
   "outputs": [
    {
     "data": {
      "text/plain": [
       "[{'title': 'The Trump-Musk breakup appears to be complete | CNN Business',\n",
       "  'url': 'https://www.cnn.com/2025/07/07/tech/elon-musk-donald-trump-breakup',\n",
       "  'content': 'The brief détente between Elon Musk and President Donald Trump took its last breath over the weekend, as the billionaire and once top Republican donor announced he would form a new political party. [...] Musk over the past few days has not gone so far as to connect Trump personally to Epstein. But Musk made that allegation last month during his first public breakup with the president. Musk later deleted and expressed regret over those posts following phone conversations with Trump, Vice President JD Vance and White House chief of staff Susie Wiles. [...] In response to Musk’s threat to start a new political party, Trump threatened to investigate the billionaire’s government contracts and subsidies. Last week, Trump said DOGE may become a monster that may “go back and eat Elon.”\\n\\nMusk fires back\\n---------------',\n",
       "  'score': 0.7348247},\n",
       " {'title': 'Trump–Musk feud - Wikipedia',\n",
       "  'url': 'https://en.wikipedia.org/wiki/Trump%E2%80%93Musk_feud',\n",
       "  'content': 'In June 2025, businessman and former presidential advisor Elon Musk and U.S. president Donald Trump engaged in a series of social media spats, primarily across Twitter and Truth Social, following Musk\\'s exit from Trump\\'s administration with his criticisms of the One Big Beautiful Bill Act, a bill intended to be landmark legislation for Trump.( [...] According to Bloomberg News, Trump aides signaled that Trump was moving on and that he would not cancel Musk\\'s government contracts.( The _Washington Post_ reported that Trump tried to explain Musk\\'s behavior by saying he was a \"big-time drug addict\".(\\n\\nDmitry Novikov told TASS that Russia could offer Musk political asylum, but that he would not need any.( [...] Late in the night of June 5, Musk approved of a tweet stating that the two main parties have no political will to reduce the national debt.( In early June 6, Trump told ABC News \"ABC News (United States)\") that Musk had \"lost his mind\" and that he was not interested in speaking to Musk,( and repeated in a CNN interview that he won\\'t be speaking to him in the near future.( The White House later stated that no call between Trump and Musk was planned.( A White House official later said that Trump',\n",
       "  'score': 0.7293082},\n",
       " {'title': 'Trump takes aim at Elon Musk for forming a new political party - CNBC',\n",
       "  'url': 'https://www.cnbc.com/2025/07/07/trump-takes-aim-at-elon-musk-for-forming-a-new-political-party-.html',\n",
       "  'content': 'Musk said in a post on X Saturday that he had set up the \"American Party.\"\\n   Disagreement over Trump\\'s spending bill had led to a dramatic falling out between Trump and Musk.\\n   \"I am saddened to watch Elon Musk go completely \\'off the rails,\\' essentially becoming a TRAIN WRECK over the past five weeks,\" Trump said in a post on Truth Social.\\n\\nTesla CEO Elon Musk and U.S. President Donald Trump at the Oval Office of the White House on May 30, 2025.\\n\\nKevin Dietsch | Getty Images [...] Disagreement over the spending bill had led to a dramatic falling out between Trump and Musk, souring the bromance which saw Musk spend millions of dollars sponsoring Trump\\'s re-election bid and the president appoint Musk to lead the Department of Government Efficiency, known as DOGE, tasked with identifying areas to cut federal spending.',\n",
       "  'score': 0.7197191},\n",
       " {'title': \"Elon Musk's latest Trump spat could end the Maga saga for good\",\n",
       "  'url': 'https://www.the-independent.com/voices/trump-musk-america-party-train-wreck-iss-tesla-spacex-b2783846.html',\n",
       "  'content': 'Like the overgrown spoiled adolescents these two men actually are, it appears obsessional revenge motivates their every action. They will never escape from their relationship, even if Trump deports Musk and Musk cuts off the US government’s access to his satellites and the SpaceX Dragon capsule upon which the International Space Station’s mission depends. [...] It’s like watching a couple destroy each other’s most treasured possessions, to see who can hurt the other the most, pretending all the while they’re not bothered. When Trump cancels the electric vehicle (EV) mandate that has done so much to boost Tesla, Musk says he doesn’t care, he just wants the pork out of the porcine big beautiful bill. Trump says he doesn’t need Musk’s help to win elections, even after he piled lavish praise on his help in the past. None of this, as lovers tend to know, [...] What will happen? It’s impossible to say with this pair. They’ve both walked back from the brink when the threats got too heated, and hinted at reconciliation, only to then renew hostilities. You’d think they’d grow up until you realise they don’t want to, and no one can make them. Not even one another.\\n\\n### More about\\n\\nElon MuskDonald TrumpInternational Space StationTeslaMAGAmidterms\\n\\nJoin our commenting forum\\n-------------------------',\n",
       "  'score': 0.69249696},\n",
       " {'title': \"Elon Musk vows to start a new political party after Trump feud. Here's ...\",\n",
       "  'url': 'https://www.cbsnews.com/news/elon-musk-new-america-political-party-trump-feud-harder-than-it-sounds/',\n",
       "  'content': 'Trump threatens Musk\\'s subsidies \\n\\nImage 1\\n\\nTrump threatens Musk\\'s subsidies over budget bill disputes 05:32\\n\\nAs billionaire Elon Musk feuds with President Trump over his signature tax and domestic policy legislation, Musk has reupped his calls to launch a new political party — a daunting task even for the wealthiest person on Earth. [...] Musk first floated launching a third party, dubbed the \"America Party,\" earlier this month, part of a nasty back-and-forth between the president and the Tesla CEO that marked the likely end of their political alliance. The billionaire raised the idea of a third party again last week as lawmakers raced to send the One Big Beautiful Bill Act to Mr. Trump\\'s desk — saying he would start the party if Congress passed what hedescribed asan \"insane spending bill.\"',\n",
       "  'score': 0.6786044}]"
      ]
     },
     "execution_count": 6,
     "metadata": {},
     "output_type": "execute_result"
    }
   ],
   "source": [
    "search_tool.invoke(\"What's going on between Trum and Musk ?\")"
   ]
  },
  {
   "cell_type": "code",
   "execution_count": 7,
   "metadata": {},
   "outputs": [],
   "source": [
    "repl = PythonREPL()"
   ]
  },
  {
   "cell_type": "code",
   "execution_count": 8,
   "metadata": {},
   "outputs": [],
   "source": [
    "@tool\n",
    "def repl_tool(code:Annotated[str,\"The python code to execute to generate your chart.\"]):\n",
    "    \"\"\"Use this to execute python code and do math. If you want to see the output of a value,\n",
    "    you should print it out with `print(...)`. This is visible to the user.\"\"\"\n",
    "    try: \n",
    "        \n",
    "        result = repl.run(code)\n",
    "    except BaseException as e:\n",
    "        return f\"Failed to execute. Error: {repr(e)}\"\n",
    "    \n",
    "    result_str = f\"Successfully executed:\\n\\`\\`\\`python\\n{code}\\n\\`\\`\\`\\nStdout: {result}\"\n",
    "    return result_str\n"
   ]
  },
  {
   "cell_type": "code",
   "execution_count": 10,
   "metadata": {},
   "outputs": [],
   "source": [
    "class Router(TypedDict):\n",
    "    next: Literal['researcher','coder','FINISH']"
   ]
  },
  {
   "cell_type": "code",
   "execution_count": 11,
   "metadata": {},
   "outputs": [],
   "source": [
    "class State(MessagesState):\n",
    "    next: str"
   ]
  },
  {
   "cell_type": "code",
   "execution_count": 12,
   "metadata": {},
   "outputs": [],
   "source": [
    "members = ['researcher','coder','FINISH']"
   ]
  },
  {
   "cell_type": "code",
   "execution_count": 13,
   "metadata": {},
   "outputs": [],
   "source": [
    "system_prompt = f\"\"\"\"\n",
    "You are a supervisor, tasked with managing a conversation between the following workers: {members}. \n",
    "Given the following user request, respond with the worker to act next. \n",
    "Each worker will perform a task and respond with their results and status. \n",
    "When finished, respond with FINISH.\n",
    "\"\"\""
   ]
  },
  {
   "cell_type": "code",
   "execution_count": 14,
   "metadata": {},
   "outputs": [],
   "source": [
    "llm = ChatOpenAI(model='gpt-4.1-2025-04-14')"
   ]
  },
  {
   "cell_type": "code",
   "execution_count": 16,
   "metadata": {},
   "outputs": [],
   "source": [
    "def supervisor_agent(state:State)-> Command[Literal['researcher','coder','__end__']]:\n",
    "    messages = [{'role':'system','content':system_prompt},] + state['messages']\n",
    "    llm_with_structured_output = llm.with_structured_output(Router)\n",
    "\n",
    "    response = llm_with_structured_output.invoke(messages)\n",
    "    goto = response[\"next\"]\n",
    "    print(\"**********BELOW IS MY GOTO***************\")\n",
    "    \n",
    "    print(goto)\n",
    "    if response == 'FINISH':\n",
    "        goto = END\n",
    "    return Command(update={\"next\": goto},goto=goto)\n",
    "    "
   ]
  },
  {
   "cell_type": "code",
   "execution_count": 17,
   "metadata": {},
   "outputs": [],
   "source": [
    "def research_agent(state:State) -> Command[Literal['supervisor']]:\n",
    "    researcher_agent = create_react_agent(llm,tools=[search_tool],prompt=\"You are a researcher. DO NOT do any math.\")\n",
    "    result = researcher_agent.invoke(state)\n",
    "    return Command(\n",
    "        update={\n",
    "            \"messages\":[\n",
    "                HumanMessage(content=result[\"messages\"][-1].content,name='researcher')\n",
    "            ]\n",
    "        },\n",
    "        goto=\"supervisor\"\n",
    "    )"
   ]
  },
  {
   "cell_type": "code",
   "execution_count": 18,
   "metadata": {},
   "outputs": [],
   "source": [
    "def code_agent(state:State) -> Command[Literal['supervisor']]:\n",
    "    coder_agent = create_react_agent(llm,tools=[repl_tool],prompt=\"You are a coder. DO NOT do any math.\")\n",
    "    result = coder_agent.invoke(state)\n",
    "    return Command(\n",
    "        update={\n",
    "            \"messages\":[\n",
    "                HumanMessage(content=result[\"messages\"][-1].content,name='coder')\n",
    "            ]\n",
    "        },\n",
    "        goto=\"supervisor\"\n",
    "    )"
   ]
  },
  {
   "cell_type": "code",
   "execution_count": 19,
   "metadata": {},
   "outputs": [],
   "source": [
    "graph = StateGraph(State)"
   ]
  },
  {
   "cell_type": "code",
   "execution_count": 20,
   "metadata": {},
   "outputs": [
    {
     "data": {
      "text/plain": [
       "<langgraph.graph.state.StateGraph at 0x1242d3d10>"
      ]
     },
     "execution_count": 20,
     "metadata": {},
     "output_type": "execute_result"
    }
   ],
   "source": [
    "graph.add_node(\"supervisor\",supervisor_agent)\n",
    "graph.add_node(\"researcher\",research_agent)\n",
    "graph.add_node(\"coder\",code_agent)\n",
    "\n",
    "graph.add_edge(START,\"supervisor\")"
   ]
  },
  {
   "cell_type": "code",
   "execution_count": 21,
   "metadata": {},
   "outputs": [],
   "source": [
    "app = graph.compile()"
   ]
  },
  {
   "cell_type": "code",
   "execution_count": 22,
   "metadata": {},
   "outputs": [],
   "source": [
    "from IPython.display import display,Image"
   ]
  },
  {
   "cell_type": "code",
   "execution_count": 23,
   "metadata": {},
   "outputs": [
    {
     "data": {
      "image/png": "[encoded data removed]",
      "text/plain": [
       "<IPython.core.display.Image object>"
      ]
     },
     "metadata": {},
     "output_type": "display_data"
    }
   ],
   "source": [
    "display(Image(app.get_graph().draw_mermaid_png()))"
   ]
  },
  {
   "cell_type": "code",
   "execution_count": 24,
   "metadata": {},
   "outputs": [
    {
     "name": "stdout",
     "output_type": "stream",
     "text": [
      "**********BELOW IS MY GOTO***************\n",
      "coder\n",
      "((), {'supervisor': {'next': 'coder'}})\n",
      "**********BELOW IS MY STATE***************\n"
     ]
    },
    {
     "name": "stderr",
     "output_type": "stream",
     "text": [
      "Python REPL can execute arbitrary code. Use with caution.\n"
     ]
    },
    {
     "name": "stdout",
     "output_type": "stream",
     "text": [
      "(('coder:5a4f11b4-b910-ec29-21a9-1e5a1985987a',), {'agent': {'messages': [AIMessage(content='', additional_kwargs={'tool_calls': [{'id': 'call_yruIWl1RUnKoVEShdkoiD3He', 'function': {'arguments': '{\"code\":\"import math\\\\nprint(math.sqrt(42))\"}', 'name': 'repl_tool'}, 'type': 'function'}], 'refusal': None}, response_metadata={'token_usage': {'completion_tokens': 23, 'prompt_tokens': 105, 'total_tokens': 128, 'completion_tokens_details': {'accepted_prediction_tokens': 0, 'audio_tokens': 0, 'reasoning_tokens': 0, 'rejected_prediction_tokens': 0}, 'prompt_tokens_details': {'audio_tokens': 0, 'cached_tokens': 0}}, 'model_name': 'gpt-4.1-2025-04-14', 'system_fingerprint': 'fp_b3f1157249', 'id': 'chatcmpl-BrBO6Mngv5wWyqEIQ8xn4704FnNKS', 'service_tier': 'default', 'finish_reason': 'tool_calls', 'logprobs': None}, id='run--86feae59-71d8-416e-9cfb-63f61a2b1ff1-0', tool_calls=[{'name': 'repl_tool', 'args': {'code': 'import math\\nprint(math.sqrt(42))'}, 'id': 'call_yruIWl1RUnKoVEShdkoiD3He', 'type': 'tool_call'}], usage_metadata={'input_tokens': 105, 'output_tokens': 23, 'total_tokens': 128, 'input_token_details': {'audio': 0, 'cache_read': 0}, 'output_token_details': {'audio': 0, 'reasoning': 0}})]}})\n",
      "**********BELOW IS MY STATE***************\n",
      "(('coder:5a4f11b4-b910-ec29-21a9-1e5a1985987a',), {'tools': {'messages': [ToolMessage(content='Successfully executed:\\n\\\\`\\\\`\\\\`python\\nimport math\\nprint(math.sqrt(42))\\n\\\\`\\\\`\\\\`\\nStdout: 6.48074069840786\\n', name='repl_tool', id='77781dc3-cfc7-4b5f-9a33-92c14ff5e167', tool_call_id='call_yruIWl1RUnKoVEShdkoiD3He')]}})\n",
      "**********BELOW IS MY STATE***************\n",
      "(('coder:5a4f11b4-b910-ec29-21a9-1e5a1985987a',), {'agent': {'messages': [AIMessage(content='The square root of 42 is approximately 6.48.', additional_kwargs={'refusal': None}, response_metadata={'token_usage': {'completion_tokens': 14, 'prompt_tokens': 171, 'total_tokens': 185, 'completion_tokens_details': {'accepted_prediction_tokens': 0, 'audio_tokens': 0, 'reasoning_tokens': 0, 'rejected_prediction_tokens': 0}, 'prompt_tokens_details': {'audio_tokens': 0, 'cached_tokens': 0}}, 'model_name': 'gpt-4.1-2025-04-14', 'system_fingerprint': 'fp_b3f1157249', 'id': 'chatcmpl-BrBO7rX097uCc9eeDjlm4zERwqqe0', 'service_tier': 'default', 'finish_reason': 'stop', 'logprobs': None}, id='run--e1de35d9-00ff-48fd-80bb-b31481935c7f-0', usage_metadata={'input_tokens': 171, 'output_tokens': 14, 'total_tokens': 185, 'input_token_details': {'audio': 0, 'cache_read': 0}, 'output_token_details': {'audio': 0, 'reasoning': 0}})]}})\n",
      "**********BELOW IS MY STATE***************\n",
      "((), {'coder': {'messages': [HumanMessage(content='The square root of 42 is approximately 6.48.', additional_kwargs={}, response_metadata={}, name='coder')]}})\n",
      "**********BELOW IS MY STATE***************\n",
      "**********BELOW IS MY GOTO***************\n",
      "FINISH\n",
      "((), {'supervisor': {'next': 'FINISH'}})\n",
      "**********BELOW IS MY STATE***************\n"
     ]
    }
   ],
   "source": [
    "for s in app.stream({\"messages\": [(\"user\", \"What's the square root of 42?\")]}, subgraphs=True):\n",
    "    print(s)\n",
    "    print(\"**********BELOW IS MY STATE***************\")"
   ]
  },
  {
   "cell_type": "code",
   "execution_count": 25,
   "metadata": {},
   "outputs": [
    {
     "name": "stdout",
     "output_type": "stream",
     "text": [
      "**********BELOW IS MY GOTO***************\n",
      "researcher\n",
      "**********BELOW IS MY GOTO***************\n",
      "coder\n",
      "**********BELOW IS MY GOTO***************\n",
      "FINISH\n"
     ]
    }
   ],
   "source": [
    "result=app.invoke({\"messages\": [(\"user\", \"what is an efficent python code to get prime number?\")]}, subgraphs=True)"
   ]
  },
  {
   "cell_type": "code",
   "execution_count": 26,
   "metadata": {},
   "outputs": [
    {
     "data": {
      "text/plain": [
       "((),\n",
       " {'messages': [HumanMessage(content='what is an efficent python code to get prime number?', additional_kwargs={}, response_metadata={}, id='8baa885f-c376-4558-99cb-2bc00c118cf9'),\n",
       "   HumanMessage(content='To efficiently find prime numbers in Python, one commonly used algorithm is the **Sieve of Eratosthenes** for generating all prime numbers up to a certain limit. For checking whether a single number is prime, you can use trial division up to the square root of the number.\\n\\nHere are two efficient code snippets:\\n\\n---\\n\\n### 1. **Sieve of Eratosthenes** (for all primes up to n)\\n\\n```python\\ndef sieve_of_eratosthenes(limit):\\n    is_prime = [True] * (limit + 1)\\n    is_prime[0:2] = [False, False]\\n    for number in range(2, int(limit ** 0.5) + 1):\\n        if is_prime[number]:\\n            for multiple in range(number*number, limit + 1, number):\\n                is_prime[multiple] = False\\n    primes = [i for i, prime in enumerate(is_prime) if prime]\\n    return primes\\n```\\n\\n---\\n\\n### 2. **Efficient Prime Check (for a single number)**\\n\\n```python\\ndef is_prime(n):\\n    if n <= 1:\\n        return False\\n    if n <= 3:\\n        return True\\n    if n % 2 == 0 or n % 3 == 0:\\n        return False\\n    i = 5\\n    while i * i <= n:\\n        if n % i == 0 or n % (i + 2) == 0:\\n            return False\\n        i += 6\\n    return True\\n```\\n\\n---\\n\\n**When to use which:**  \\n- Use the sieve if you need all primes up to a large number.\\n- Use the primality check if you are testing single numbers.\\n\\nLet me know if you want code for a particular use case or further explanation!', additional_kwargs={}, response_metadata={}, name='researcher', id='b4d09ee5-a85c-4064-9806-4d085449714b'),\n",
       "   HumanMessage(content='Here’s an efficient Python code to get prime numbers using the Sieve of Eratosthenes, which is one of the fastest ways to find all prime numbers up to a given number n:\\n\\n```python\\ndef sieve_of_eratosthenes(n):\\n    primes = []\\n    is_prime = [True for _ in range(n+1)]\\n    is_prime[0:2] = [False, False]  # 0 and 1 are not primes\\n\\n    for number in range(2, int(n**0.5) + 1):\\n        if is_prime[number]:\\n            for multiple in range(number*number, n+1, number):\\n                is_prime[multiple] = False\\n\\n    for number in range(2, n+1):\\n        if is_prime[number]:\\n            primes.append(number)\\n\\n    return primes\\n```\\n\\nTo get all prime numbers up to 100, for example:\\n\\n```python\\nprint(sieve_of_eratosthenes(100))\\n```\\n\\nThis method is much faster than checking each number individually for primality, especially for large n.', additional_kwargs={}, response_metadata={}, name='coder', id='44675289-eb5c-4e23-86ae-36bcbf5b8bc0')],\n",
       "  'next': 'FINISH'})"
      ]
     },
     "execution_count": 26,
     "metadata": {},
     "output_type": "execute_result"
    }
   ],
   "source": [
    "result"
   ]
  },
  {
   "cell_type": "code",
   "execution_count": null,
   "metadata": {},
   "outputs": [],
   "source": []
  }
 ],
 "metadata": {
  "kernelspec": {
   "display_name": "Python 3",
   "language": "python",
   "name": "python3"
  },
  "language_info": {
   "codemirror_mode": {
    "name": "ipython",
    "version": 3
   },
   "file_extension": ".py",
   "mimetype": "text/x-python",
   "name": "python",
   "nbconvert_exporter": "python",
   "pygments_lexer": "ipython3",
   "version": "3.11.0"
  }
 },
 "nbformat": 4,
 "nbformat_minor": 2
}
